{
 "cells": [
  {
   "cell_type": "markdown",
   "metadata": {},
   "source": [
    "# Dependency Injection\n",
    ".NET posee una infraestructura para definir los objetos disponibles a inyectar, para poder implementar inyección de dependencias. \n",
    "\n",
    "## Ciclos de vida\n",
    "\n",
    "- **Transient**: Se creará una instancia cada vez que es solicitada. Cuando es solicitada a través de una request, la instancia es destruida al final de la request. \n",
    "- **Scoped**: Se creará una instancia por request (o scope) y será compartida por todos los que la soliciten en la request.  \n",
    "- **Singleton**: Se creará una instancia la primera vez que es solicitada.\n",
    "\n",
    "El builder validará al momento de instanciar que no haya dependencias desde un servicio con tiempo de vida mayor a uno con tiempo de vida menor. (Por ejemplo, de un singleton a un scoped) \n"
   ]
  },
  {
   "cell_type": "markdown",
   "metadata": {},
   "source": [
    "## Donde se definen\n",
    "Las correspondencias se definen a través del WebApplicationBuilder. El mismo define los metodos para agregar servicios con los ciclos de vida soportados\n"
   ]
  },
  {
   "cell_type": "code",
   "execution_count": null,
   "metadata": {
    "dotnet_interactive": {
     "language": "csharp"
    },
    "vscode": {
     "languageId": "dotnet-interactive.csharp"
    }
   },
   "outputs": [],
   "source": [
    "// definiciones de servicios e interfaces\n",
    "\n",
    "public interface IUserRepo {\n",
    "    //....\n",
    "}\n",
    "\n",
    "public class UserRepo : IUserRepo {\n",
    "   //....\n",
    "}\n",
    "\n",
    "public interface IAuthService {\n",
    "    Task Login(string username, string password);\n",
    "}\n",
    "\n",
    "public class AuthService : IAuthService {\n",
    "    private readonly IUserRepo userRepo;\n",
    "\n",
    "    // se definen las dependencias en un constructor publico (que debe ser unico)\n",
    "    public AuthService(IUserRepo userRepo) {\n",
    "        this.userRepo = userRepo;\n",
    "    }\n",
    "\n",
    "    public Task Login(string username, string password) {\n",
    "        //....\n",
    "    }\n",
    "}\n",
    "\n",
    "\n",
    "\n",
    "// codigo de startup\n",
    "\n",
    "var builder = WebApplicationBuilder.CreateBuilder(args);\n",
    "\n",
    "// con la clase especifica\n",
    "builder.Services.AddTransient<AuthService>();\n",
    "\n",
    "// implementacion de una interfaz\n",
    "builder.Services.AddTransient<IAuthService, AuthService>();\n",
    "builder.Services.AddTransient<IUserRepo, UserRepo>();\n",
    "\n",
    "\n",
    "// otros ciclos de vida\n",
    "builder.Services.AddSingleton<ClientService>();\n",
    "builder.Services.AddScoped<ProductService>();"
   ]
  },
  {
   "cell_type": "markdown",
   "metadata": {},
   "source": [
    "# Autorización\n",
    ".NET posee dispone de un sistema de autorización basado en **roles** y/o **policies** que pueden definir custom handlers en base a las claims del usuario y el contexto de la request.\n",
    "\n",
    "## Roles\n",
    "Un usuario puede tener una coleccion de roles. Por defecto, los mismos se parsean de las claims de rol (http://schemas.microsoft.com/ws/2008/06/identity/claims/role)\n",
    "\n",
    "## Policies\n",
    "Se pueden definir policies personalizadas con requerimientos de roles, claims especificas, o requerimientos custom. Para los requerimientos custom se deben implementar un RequirementHandler correspondiente donde se puede acceder al user y el contexto de la request, etc.\n",
    "\n",
    "## Cómo se configura\n",
    "A través del metodo de extensión AddAuthorization, y los metodos de extensión de la forma de autenticación que se quiera usar. (Por ejemplo JwtBearer)"
   ]
  },
  {
   "cell_type": "code",
   "execution_count": null,
   "metadata": {
    "dotnet_interactive": {
     "language": "csharp"
    },
    "vscode": {
     "languageId": "dotnet-interactive.csharp"
    }
   },
   "outputs": [],
   "source": [
    "var builder = WebApplicationBuilder.CreateBuilder(args);\n",
    "\n",
    "// habilitando control de autorización, no se requieren paquetes nuget adicionales\n",
    "builder.Services.AddAuthorization(options => {\n",
    "    // aqui se configuran policies basadas custom requirements\n",
    "    options.ConfigureRequirement<GroupOwnerRequirement>(\"GroupOwner\");\n",
    "\n",
    "    //ejemplo de policies basadas en claims\n",
    "    options.AddPolicy(\"GoogleUsersOnly\", policy => policy.RequireClaim(\"GoogleUserId\"));\n",
    "});\n",
    "\n",
    "// en caso de configurar custom requirements, se deben declarar los handlers por acá\n",
    "builder.Services.AddTransient<IAuthorizationHandler, GroupOwnerRequirementHandler>(); // GroupOwnerRequirementHandler : AuthorizationHandler<GroupOwner> (mas detalles adelante)\n",
    "\n",
    "// habilitando autenticación por JWT, los metodos de extensión son proporcionados por el paquete nuget Microsoft.AspNetCore.Authentication.JwtBearer\n",
    "// se pueden soportar varios tipos de autenticación (incluso del mismo tipo) lo que permite interactuar con distintos proveedores de autenticacion a la vez\n",
    "builder.Services.AddAuthentication(options =>\n",
    "{\n",
    "    options.DefaultAuthenticateScheme = JwtBearerDefaults.AuthenticationScheme;\n",
    "    options.DefaultChallengeScheme = JwtBearerDefaults.AuthenticationScheme;\n",
    "    options.DefaultScheme = JwtBearerDefaults.AuthenticationScheme;\n",
    "}).AddJwtBearer(options =>\n",
    "    {\n",
    "        options.SaveToken = true;\n",
    "        // options.RequireHttpsMetadata = false;  \n",
    "        options.TokenValidationParameters = new TokenValidationParameters()\n",
    "        {\n",
    "            ValidateIssuer = true,\n",
    "            ValidateAudience = true,\n",
    "            ValidAudience = jwtConfiguration.ValidAudience,\n",
    "            ValidIssuer = jwtConfiguration.ValidIssuer,\n",
    "            IssuerSigningKey = new SymmetricSecurityKey(Encoding.UTF8.GetBytes(jwtConfiguration.Secret))\n",
    "        };\n",
    "    });"
   ]
  },
  {
   "cell_type": "markdown",
   "metadata": {},
   "source": [
    "## Como se usa\n",
    "Se debe establecer un atributo ``[Authorize]`` a nivel de controller o metodo del controller para requerir la authenticacion en ese/esos endpoints.\n",
    "En este atributo se pueden definir los roles que pueden acceder al endpoint y las policies que deben ser cumplidas."
   ]
  },
  {
   "cell_type": "code",
   "execution_count": null,
   "metadata": {
    "dotnet_interactive": {
     "language": "csharp"
    },
    "vscode": {
     "languageId": "dotnet-interactive.csharp"
    }
   },
   "outputs": [],
   "source": [
    "public class GroupsController : Controller {\n",
    "    [Authorize(Roles=\"Admin\", Policy = \"GroupOwner\")]\n",
    "    public async Task<Group> GetGroup(long groupId) {\n",
    "        //....\n",
    "    }\n",
    "}"
   ]
  },
  {
   "cell_type": "markdown",
   "metadata": {},
   "source": [
    "## Custom requirements\n",
    "Para los custom requirements, se deben implementar sus handlers, los cuales deben heredar de ``AuthorizationHandler<TRequirement>`` "
   ]
  },
  {
   "cell_type": "code",
   "execution_count": null,
   "metadata": {
    "dotnet_interactive": {
     "language": "csharp"
    },
    "vscode": {
     "languageId": "dotnet-interactive.csharp"
    }
   },
   "outputs": [],
   "source": [
    "public class AccessControlRequirement<GroupOwnerRequirement> : AuthorizationHandler<GroupOwnerRequirement> {\n",
    "    public override async Task HandleRequirementAsync(AuthorizationHandlerContext context, GroupOwnerRequirement requirement)\n",
    "    {\n",
    "        // a través del AuthorizationHandlerContext se pueden acceder a distintos datos de la request y el user\n",
    "\n",
    "        // se pueden obtener claims del usuario\n",
    "        var userId = context.User.FindFirstValue(\"userId\"); \n",
    "\n",
    "        var entityId = default(long?);\n",
    "\n",
    "        // segun el contexto de autorizacion, se pueden obtener parametros de la url, headers, etc.\n",
    "        if (context.Resource is DefaultHttpContext httpContext)\n",
    "        {\n",
    "            var parameter = httpContext.GetRouteValue(\"groupId\");\n",
    "\n",
    "            entityId = long.TryParse((string)parameter, out var parsedEntityId)\n",
    "                ? parsedEntityId\n",
    "                : throw new CommonException($\"groupId parameter not found\");\n",
    "        }\n",
    "\n",
    "        //buscar relacion en la db\n",
    "\n",
    "        context.Success();\n",
    "    }\n",
    "}"
   ]
  },
  {
   "cell_type": "markdown",
   "metadata": {},
   "source": [
    "## ASP.NET Identity\n",
    "A través de los metodos de extensión provistos por Microsoft.AspNetCore.Identity.EntityFrameworkCore, se puede configurar un proveedor de usuarios basado en entity framework. Que incluye:\n",
    "- Gestión de usuarios y roles\n",
    "- Generación de tokens"
   ]
  },
  {
   "cell_type": "code",
   "execution_count": null,
   "metadata": {
    "dotnet_interactive": {
     "language": "csharp"
    },
    "vscode": {
     "languageId": "dotnet-interactive.csharp"
    }
   },
   "outputs": [],
   "source": [
    "builder.Services\n",
    "    .AddIdentityCore<IdentityUser>()\n",
    "    .AddRoles<IdentityRole>()\n",
    "    .AddDefaultTokenProviders()\n",
    "    .AddEntityFrameworkStores<AppDbContext>();\n",
    "\n",
    "builder.Services.Configure<IdentityOptions>(options =>\n",
    "{\n",
    "    // Password settings.\n",
    "    options.Password.RequireDigit = true;\n",
    "    options.Password.RequireLowercase = true;\n",
    "    options.Password.RequireNonAlphanumeric = true;\n",
    "    options.Password.RequireUppercase = true;\n",
    "    options.Password.RequiredLength = 8;\n",
    "    options.Password.RequiredUniqueChars = 1;\n",
    "\n",
    "    // Lockout settings.\n",
    "    options.Lockout.DefaultLockoutTimeSpan = TimeSpan.FromMinutes(5);\n",
    "    options.Lockout.MaxFailedAccessAttempts = 5;\n",
    "    options.Lockout.AllowedForNewUsers = true;\n",
    "\n",
    "    // User settings.\n",
    "    options.User.AllowedUserNameCharacters = \"abcdefghijklmnopqrstuvwxyzABCDEFGHIJKLMNOPQRSTUVWXYZ0123456789-._@+\";\n",
    "    options.User.RequireUniqueEmail = false;\n",
    "});"
   ]
  }
 ],
 "metadata": {
  "kernelspec": {
   "display_name": ".NET (C#)",
   "language": "C#",
   "name": ".net-csharp"
  },
  "language_info": {
   "file_extension": ".cs",
   "mimetype": "text/x-csharp",
   "name": "C#",
   "pygments_lexer": "csharp",
   "version": "9.0"
  },
  "vscode": {
   "interpreter": {
    "hash": "c4c960bf06c6163da1b53c9dc22095b6012521c51151309574e09abe33ef9753"
   }
  }
 },
 "nbformat": 4,
 "nbformat_minor": 2
}
