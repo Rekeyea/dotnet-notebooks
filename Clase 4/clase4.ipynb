{
 "cells": [
  {
   "cell_type": "markdown",
   "metadata": {},
   "source": [
    "Ahora vamos a ir directo a la accion"
   ]
  },
  {
   "cell_type": "markdown",
   "metadata": {},
   "source": [
    "Creamos un nuevo proyecto\n",
    "\n",
    "```dotnetcli\n",
    "dotnet new webapi -o WebApi\n",
    "```"
   ]
  },
  {
   "cell_type": "markdown",
   "metadata": {},
   "source": [
    "Vamos a hacer un boceto de una API para que Pipe pueda cargar sus platos.\n",
    "\n",
    "- Agregar un menu para una fecha\n",
    "- Agregar platos para ese menu\n",
    "- Listar menus y platos para un rango de fechas\n",
    "- Anotarse para un plato\n",
    "- Desanotarse para un plato\n",
    "- Iniciar Sesion \n",
    "- Registrarse (Solo usuarios que se anotan a platos)"
   ]
  },
  {
   "cell_type": "markdown",
   "metadata": {},
   "source": [
    "Primero agregamos el paquete necesario para soportar la base de datos que queramos usar:\n",
    "\n",
    "```dotnetcli\n",
    "dotnet add package Npgsql.EntityFrameworkCore.PostgreSQL\n",
    "```"
   ]
  },
  {
   "cell_type": "markdown",
   "metadata": {},
   "source": [
    "Creamos las clases de los modelos y agregamos los controllers correspondientes con sus respectivos metodos (podemos hacerlo por rutas al igual que en express). \n",
    "\n",
    "```csharp\n",
    "[Route(\"Menus\")]\n",
    "public class MenusController : Controller\n",
    "{\n",
    "    public MenusController()\n",
    "    {\n",
    "    }\n",
    "\n",
    "    [HttpGet]\n",
    "    [Route(\"\")]\n",
    "    public IActionResult Get()\n",
    "    {\n",
    "        return Ok(this.Db.Products);\n",
    "    }\n",
    "}\n",
    "```\n"
   ]
  },
  {
   "cell_type": "markdown",
   "metadata": {},
   "source": [
    "Creamos una clase que herede de DbContext con sus respectivos DbSet\n",
    "\n",
    "```C#\n",
    "public class AppDbContext : DbContext \n",
    "{\n",
    "    public AppDbContext(DbContextOptions<AppDbContext> options) : base(options)\n",
    "    {\n",
    "    }\n",
    "\n",
    "    public DbSet<Menu> Menus {get;set;}\n",
    "    public DbSet<Dish> Dishes {get;set;}\n",
    "}\n",
    "```"
   ]
  },
  {
   "cell_type": "markdown",
   "metadata": {},
   "source": [
    "Agregamos al archivo <b>Program.cs</b> la configuracion del connection string de la base de datos\n",
    "\n",
    "```csharp\n",
    "var connectionString = builder.Configuration.GetConnectionString(\"Default\");\n",
    "\n",
    "builder.Services.AddDbContext<AppDbContext>(options =>\n",
    "            {\n",
    "                options.UseNpgsql(connectionString);\n",
    "            });\n",
    "```"
   ]
  },
  {
   "cell_type": "markdown",
   "metadata": {},
   "source": [
    "Agregamos el metodo para configurar los modelos con la API (dentro del Context)\n",
    "\n",
    "```csharp\n",
    "protected override void OnModelCreating(ModelBuilder modelBuilder)\n",
    "{\n",
    "    base.OnModelCreating(modelBuilder);\n",
    "}\n",
    "```"
   ]
  },
  {
   "cell_type": "markdown",
   "metadata": {},
   "source": [
    "Creamos las configuraciones de los distintos modelos:\n",
    "\n",
    "```csharp\n",
    "public class MenusConfiguration : IEntityTypeConfiguration<Menu>\n",
    "{\n",
    "    public void Configure(EntityTypeBuilder<Menu> builder)\n",
    "    {\n",
    "        builder.ToTable(\"Menus\"); // Esto no es necesario porque ya sabe que la tabla se llama asi\n",
    "        // Add Soft Delete Filter\n",
    "        builder.HasQueryFilter(p => !p.IsDeleted);\n",
    "\n",
    "        builder.HasData(new Menu[]{\n",
    "            new Menu{} // Hay que ponerle el Id a mano\n",
    "        });\n",
    "    }\n",
    "}\n",
    "```"
   ]
  },
  {
   "cell_type": "markdown",
   "metadata": {},
   "source": [
    "Agregamos la configuracion al AppDbContext en OnModelCreating\n",
    "\n",
    "```csharp\n",
    "protected override void OnModelCreating(ModelBuilder modelBuilder)\n",
    "{\n",
    "    base.OnModelCreating(modelBuilder);\n",
    "    // Agregamos aqui\n",
    "    modelBuilder.ApplyConfiguration(new MenuConfiguration());\n",
    "    modelBuilder.ApplyConfiguration(new DishConfiguration());\n",
    "    modelBuilder.ApplyConfiguration(new UserConfiguration());\n",
    "}\n",
    "```"
   ]
  },
  {
   "cell_type": "markdown",
   "metadata": {},
   "source": [
    "Una vez modelado todo esto podemos agregar nuestra primer migracion\n",
    "\n",
    "```dotnetcli\n",
    "dotnet ef migrations add InitialCreate\n",
    "```"
   ]
  },
  {
   "cell_type": "markdown",
   "metadata": {},
   "source": [
    "Ahora agreguemos la autenticacion\n",
    "\n",
    "Agregamos un record para la configuracion del JWT\n",
    "\n",
    "```csharp\n",
    "public record JwtConfiguration(string ValidAudience, string ValidIssuer, string Secret);\n",
    "```\n",
    "\n",
    "En el appsettings agregamos la configuracion del JWT\n",
    "\n",
    "```json\n",
    "\"JWT\": {  \n",
    "    \"ValidAudience\": \"http://localhost:5006\",  \n",
    "    \"ValidIssuer\": \"http://localhost:5006\",  \n",
    "    \"Secret\": \"ByYM000OLlMQG6VVVp1OH7Xzyr7gHuw1qvUC5dcGt3SNM\"  \n",
    "} \n",
    "```\n",
    "\n",
    "Definimos un metodo de extension para encapsular todas las configuraciones de Autenticacion necesarias:\n",
    "\n",
    "```csharp\n",
    "public static class AppAuthConfiguration\n",
    "{\n",
    "    public static void AddAppAuthConfig(this WebApplicationBuilder builder)\n",
    "    {\n",
    "        var jwtConfiguration = builder.Configuration.GetSection(\"JWT\").Get<JwtConfiguration>();\n",
    "        if (jwtConfiguration is null)\n",
    "        {\n",
    "            throw new Exception(\"JWT Configuration cannot be empty\");\n",
    "        }\n",
    "        builder.Services.AddSingleton<JwtConfiguration>(jwtConfiguration);\n",
    "        \n",
    "        builder.Services.AddAuthorization();\n",
    "        builder.Services.AddAuthentication(options =>\n",
    "        {\n",
    "            options.DefaultAuthenticateScheme = JwtBearerDefaults.AuthenticationScheme;\n",
    "            options.DefaultChallengeScheme = JwtBearerDefaults.AuthenticationScheme;\n",
    "            options.DefaultScheme = JwtBearerDefaults.AuthenticationScheme;\n",
    "        }).AddJwtBearer(options =>\n",
    "            {\n",
    "                options.SaveToken = true;\n",
    "                // options.RequireHttpsMetadata = false;  \n",
    "                options.TokenValidationParameters = new TokenValidationParameters()\n",
    "                {\n",
    "                    ValidateIssuer = true,\n",
    "                    ValidateAudience = true,\n",
    "                    ValidAudience = jwtConfiguration.ValidAudience,\n",
    "                    ValidIssuer = jwtConfiguration.ValidIssuer,\n",
    "                    IssuerSigningKey = new SymmetricSecurityKey(Encoding.UTF8.GetBytes(jwtConfiguration.Secret))\n",
    "                };\n",
    "            });\n",
    "\n",
    "        builder.Services\n",
    "            .AddIdentityCore<IdentityUser>()\n",
    "            .AddRoles<IdentityRole>()\n",
    "            .AddDefaultTokenProviders()\n",
    "            .AddEntityFrameworkStores<AppDbContext>();\n",
    "\n",
    "        builder.Services.Configure<IdentityOptions>(options =>\n",
    "        {\n",
    "            // Password settings.\n",
    "            options.Password.RequireDigit = true;\n",
    "            options.Password.RequireLowercase = true;\n",
    "            options.Password.RequireNonAlphanumeric = true;\n",
    "            options.Password.RequireUppercase = true;\n",
    "            options.Password.RequiredLength = 8;\n",
    "            options.Password.RequiredUniqueChars = 1;\n",
    "\n",
    "            // Lockout settings.\n",
    "            options.Lockout.DefaultLockoutTimeSpan = TimeSpan.FromMinutes(5);\n",
    "            options.Lockout.MaxFailedAccessAttempts = 5;\n",
    "            options.Lockout.AllowedForNewUsers = true;\n",
    "\n",
    "            // User settings.\n",
    "            options.User.AllowedUserNameCharacters = \"abcdefghijklmnopqrstuvwxyzABCDEFGHIJKLMNOPQRSTUVWXYZ0123456789-._@+\";\n",
    "            options.User.RequireUniqueEmail = false;\n",
    "        });\n",
    "    }\n",
    "}\n",
    "```\n",
    "\n",
    "Definamos un metodo de extension para configurar las tablas involucradas:\n",
    "\n",
    "```csharp\n",
    "public static class IdentityDataBuilder\n",
    "{\n",
    "    public static void ConfigureIdentityTables(this ModelBuilder modelBuilder)\n",
    "    {\n",
    "        modelBuilder.Entity<IdentityUser>(b => {\n",
    "            b.ToTable(\"Users\");\n",
    "        });\n",
    "        modelBuilder.Entity<IdentityRole>(b => {\n",
    "            b.ToTable(\"Roles\");\n",
    "        });\n",
    "        modelBuilder.Entity<IdentityUserRole<string>>(b => {\n",
    "            b.ToTable(\"UserRoles\");\n",
    "        });\n",
    "        modelBuilder.Entity<IdentityUserToken<string>>(b => {\n",
    "            b.ToTable(\"UserTokens\");\n",
    "        });\n",
    "\n",
    "        modelBuilder.Entity<IdentityRoleClaim<string>>(b => {\n",
    "            b.ToTable(\"RoleClaims\");\n",
    "        });\n",
    "        modelBuilder.Entity<IdentityUserClaim<string>>(b => {\n",
    "            b.ToTable(\"UserClaims\");\n",
    "        });\n",
    "        modelBuilder.Entity<IdentityUserLogin<string>>(b => {\n",
    "            b.ToTable(\"UserLogins\");\n",
    "        });\n",
    "    }\n",
    "}\n",
    "```"
   ]
  },
  {
   "cell_type": "markdown",
   "metadata": {},
   "source": [
    "Luego en el Program ponemos:\n",
    "\n",
    "```csharp\n",
    "builder.AddAppAuthConfig();\n",
    "```"
   ]
  },
  {
   "cell_type": "markdown",
   "metadata": {},
   "source": [
    "Agreguemos ademas usuarios con ciertos Roles (Administradores) y que los endpoints de registro solo dejen crear usuarios comunes"
   ]
  }
 ],
 "metadata": {
  "kernelspec": {
   "display_name": ".NET (C#)",
   "language": "C#",
   "name": ".net-csharp"
  },
  "language_info": {
   "name": "C#"
  }
 },
 "nbformat": 4,
 "nbformat_minor": 2
}
