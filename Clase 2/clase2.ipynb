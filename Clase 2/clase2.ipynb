{
 "cells": [
  {
   "cell_type": "markdown",
   "metadata": {},
   "source": [
    "# Entity Framework (ORM)"
   ]
  },
  {
   "cell_type": "markdown",
   "metadata": {},
   "source": [
    "Uno de los principales problemas problemas que nos encontramos a la hora de comenzar a trabajar en un lenguaje es que ORM utilizaremos. Esta elección puede tanto simplificarnos la vida como torturarnos durante todo el proyecto si es una mala elección.\n",
    "\n",
    "En este caso .NET nos simplifica mucho esta elección dado que solo una de las opciones es considerable que digamos, Entity Framweork. Para comenzar a comprender como funciona este ORM primero debemos observar el concepto del DBContext."
   ]
  },
  {
   "cell_type": "code",
   "execution_count": null,
   "metadata": {
    "dotnet_interactive": {
     "language": "csharp"
    },
    "vscode": {
     "languageId": "dotnet-interactive.csharp"
    }
   },
   "outputs": [],
   "source": [
    "public class MyContext : DbContext\n",
    "{\n",
    "    public DbSet<Product> Products { get; set; }\n",
    "    public DbSet<Client> Clients { get; set; }\n",
    "}"
   ]
  },
  {
   "cell_type": "markdown",
   "metadata": {},
   "source": [
    "El context es el intermediario que nos permite interactuar con la DB, realizar querys, traer info, hacer updates y inserts.\n",
    "\n",
    "Una vez definido el contexto básico con el cual trabajaremos, tenemos que ver como \"configurar\" o mapear de forma adecuada las relaciones que queremos modelar. Para esto utilizaremos FluentAPI.\n",
    "\n",
    "Que es FluentAPI? Es un mecanismo provisto por entity framowrk el cual nos permite especificar como deben mapearse ciertos atributos / valores / relaciones del modelo que estamos creeando."
   ]
  },
  {
   "cell_type": "code",
   "execution_count": null,
   "metadata": {
    "dotnet_interactive": {
     "language": "csharp"
    },
    "vscode": {
     "languageId": "dotnet-interactive.csharp"
    }
   },
   "outputs": [],
   "source": [
    "public void Configure(EntityTypeBuilder<Products> builder)\n",
    "{\n",
    "    builder.ToTable(\"ProductsTableName\");\n",
    "    builder.Property(x => x.Name).HasMaxLength(255);\n",
    "    builder.Property(x => x.type).HasDefaultValue(\"DefaultType\");\n",
    "    builder.HasMany(x => x.ListElement).WithOne().HasForeignKey(x => x.HouseholdId);\n",
    "}\n",
    "\n",
    "// Si no hacemos esto, EntityFramwork se encargara de mapearlo \"segun su criterio\" (lo cual no siempre es la mejor opcion)"
   ]
  },
  {
   "cell_type": "markdown",
   "metadata": {},
   "source": [
    "Una vez configurado correctamente nuestro mapeo del modelo, lo siguiente que debemos poder realizar son migraciones, estas funcionan de manera muy similar a TypeORM aunque al generarse las mismas no quedan expresadas en SQL puro. Es posible realizar una migracion que ejecute un codigo RawSQL, pero las creadas por defecto con los comandos que se expresaran a continuacion son escritas en un lenguaje propio de .NET.\n",
    "\n",
    "Agregar una migracion:\n",
    "\n",
    "dotnet ef migrations add NameOfMigration //se le pueden agregar distintas flags --startup-project=./../Http.Api --context=Context\n",
    "\n",
    "Aplicar migraciones: \n",
    "\n",
    "dotnet ef database update //se le puede indicar hasta que migracion correr o retroceder, por defecto sin indicaciones aplicara hasta la ultima sin aplicar."
   ]
  },
  {
   "cell_type": "code",
   "execution_count": null,
   "metadata": {
    "vscode": {
     "languageId": "plaintext"
    }
   },
   "outputs": [],
   "source": [
    "    public partial class AddTcjaSunsetToDefaultTaxSettings : Migration\n",
    "    {\n",
    "        protected override void Up(MigrationBuilder migrationBuilder)\n",
    "        {\n",
    "            migrationBuilder.AddColumn<bool>(\n",
    "                name: \"Name\",\n",
    "                table: \"Products\",\n",
    "                type: \"varchar(50)\",\n",
    "                nullable: false);\n",
    "\n",
    "            migrationBuilder.RenameColumn(\n",
    "                name: \"Type\",\n",
    "                table: \"Products\",\n",
    "                newName: \"TypeNewName\");\n",
    "\n",
    "            migrationBuilder.Sql(@\"query\")\n",
    "\n",
    "            //Existen otros metodos como AlterTable, CreateIndex entre otros aunque estos metodos se auto generan\n",
    "        }\n",
    "\n",
    "        protected override void Down(MigrationBuilder migrationBuilder)\n",
    "        {\n",
    "            migrationBuilder.DropColumn(\n",
    "                name: \"Name\",\n",
    "                table: \"Products\");\n",
    "\n",
    "            migrationBuilder.RenameColumn(\n",
    "                name: \"TypeNewName\",\n",
    "                table: \"Products\",\n",
    "                newName: \"Type\");\n",
    "        }\n",
    "    }"
   ]
  },
  {
   "cell_type": "markdown",
   "metadata": {},
   "source": [
    "# Linq"
   ]
  },
  {
   "cell_type": "markdown",
   "metadata": {},
   "source": [
    "Ya creado el modelo comenzamos a ver como interactuar con los datos, para esto tenemos Linq. \n",
    "\n",
    "Que es LINQ?"
   ]
  },
  {
   "cell_type": "markdown",
   "metadata": {},
   "source": [
    "![Arquitectura .NET](linq-use.png)"
   ]
  },
  {
   "cell_type": "code",
   "execution_count": null,
   "metadata": {
    "vscode": {
     "languageId": "plaintext"
    }
   },
   "outputs": [],
   "source": [
    "\n",
    "//language-level query syntax:\n",
    "var linqExperts = from p in programmers\n",
    "                  where p.IsNewToLINQ\n",
    "                  select new LINQExpert(p);\n",
    "\n",
    "// This is the same example using linq\n",
    "var linqExperts = programmers.Where(p => p.IsNewToLINQ)\n",
    "                             .Select(p => new LINQExpert(p));\n"
   ]
  },
  {
   "cell_type": "markdown",
   "metadata": {},
   "source": [
    "Por defecto al utilizar LINQ cargamos las entidades con lazy loading, para poder \"arrastrar\" estas entidades a la hora de hacer una query debemos utilizar:\n",
    "\n",
    "-Include: Incluimos un elemento directamente relacionado a la query principal.\n",
    "\n",
    "-ThenInclude: Incluimos elementos relacionados a otros elementos incluidos."
   ]
  },
  {
   "cell_type": "code",
   "execution_count": null,
   "metadata": {
    "vscode": {
     "languageId": "plaintext"
    }
   },
   "outputs": [],
   "source": [
    "var product = await context.Products\n",
    "    .Include(p => p.MetaInfo)\n",
    "    .ThenInclude(m => m.Creator)\n",
    "    .ThenInclude(c => c.Photo)\n",
    "    .ToListAsync();"
   ]
  },
  {
   "cell_type": "markdown",
   "metadata": {},
   "source": [
    "Al realizar estas querys se debe tener cuidado porque por defecto EF mantiene un traqueo sobre estos elementos y si realizamos un save changes arrastran los cambios realizados a estas entidades a la DB.\n",
    "\n",
    "Para evitar esto podemos indicar en la query si realmente queremos que estos elementos obtenidos sean traqueados o no, para esto utilizaremos:\n",
    "\n",
    "-AsNoTracking()\n",
    "\n",
    "-AsTracking()"
   ]
  },
  {
   "cell_type": "code",
   "execution_count": null,
   "metadata": {
    "vscode": {
     "languageId": "plaintext"
    }
   },
   "outputs": [],
   "source": [
    "// Misma query ejecutada anteriormente pero marcada para que no se traque estos elementos.\n",
    "var product = await context.Products\n",
    "    .Include(p => p.MetaInfo)\n",
    "    .ThenInclude(m => m.Creator)\n",
    "    .ThenInclude(c => c.Photo)\n",
    "    .AsNoTracking()\n",
    "    .ToListAsync();\n",
    "\n",
    "// Tambien podemos marcar explicitamente que no se traque los elementos.\n",
    "var product = await context.Products\n",
    "    .Include(p => p.MetaInfo)\n",
    "    .ThenInclude(m => m.Creator)\n",
    "    .ThenInclude(c => c.Photo)\n",
    "    .AsTracking()\n",
    "    .ToListAsync();"
   ]
  },
  {
   "cell_type": "markdown",
   "metadata": {},
   "source": [
    "Para finalizar esta vision global de EF cabe destacar que este tambien permite ejecutar querys en RawSql y realizar Transactions que podran realizar un rollback ante cualquier error detectado."
   ]
  },
  {
   "cell_type": "code",
   "execution_count": null,
   "metadata": {
    "vscode": {
     "languageId": "plaintext"
    }
   },
   "outputs": [],
   "source": [
    "// Ejemplo de transacción\n",
    "var transaction = await this.context.Database.BeginTransactionAsync();\n",
    "try\n",
    "{\n",
    "    this.Context.Products.Update(product);\n",
    "    await this.context.SaveChangesAsync();\n",
    "    await transaction.CommitAsync();\n",
    "}           \n",
    "catch (Exception ex)\n",
    "{\n",
    "    await transaction.RollbackAsync();\n",
    "    this.Logger.LogError(ex, ex.Message);\n",
    "    throw;\n",
    "}"
   ]
  },
  {
   "cell_type": "code",
   "execution_count": null,
   "metadata": {
    "vscode": {
     "languageId": "plaintext"
    }
   },
   "outputs": [],
   "source": [
    "FormattableString query = $@\"SELECT ....\";\n",
    "\n",
    "var queryResult = await this.Context.Products.FromSqlInterpolated(query).ToListAsync();"
   ]
  }
 ],
 "metadata": {
  "kernelspec": {
   "display_name": ".NET (C#)",
   "language": "C#",
   "name": ".net-csharp"
  },
  "language_info": {
   "name": "C#"
  }
 },
 "nbformat": 4,
 "nbformat_minor": 2
}
