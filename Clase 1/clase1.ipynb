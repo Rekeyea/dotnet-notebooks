{
 "cells": [
  {
   "cell_type": "markdown",
   "metadata": {},
   "source": [
    "# Introduccion a C#"
   ]
  },
  {
   "cell_type": "markdown",
   "metadata": {},
   "source": [
    "Anders Hejlsberg, arquitecto de TypeScript, es Lead Architect de C# por lo que tiene sentido que los lenguajes tengan muchas similitudes. Si podemos usar TypeScript seguramente C# nos resulte muy similar."
   ]
  },
  {
   "cell_type": "markdown",
   "metadata": {},
   "source": [
    "Es un lenguaje fuertemente tipado pero con una inferencia de tipos (al menos hasta cierto nivel)."
   ]
  },
  {
   "cell_type": "code",
   "execution_count": 3,
   "metadata": {
    "dotnet_interactive": {
     "language": "csharp"
    },
    "vscode": {
     "languageId": "dotnet-interactive.csharp"
    }
   },
   "outputs": [
    {
     "name": "stdout",
     "output_type": "stream",
     "text": [
      "System.Decimal\n"
     ]
    }
   ],
   "source": [
    "var numero = 100000M; // Sabe que es un entero\n",
    "Console.WriteLine(numero.GetType());\n",
    "\n",
    "numero = 20.4M;"
   ]
  },
  {
   "cell_type": "code",
   "execution_count": 6,
   "metadata": {
    "dotnet_interactive": {
     "language": "csharp"
    },
    "vscode": {
     "languageId": "dotnet-interactive.csharp"
    }
   },
   "outputs": [
    {
     "name": "stdout",
     "output_type": "stream",
     "text": [
      "System.Func`2[System.Decimal,System.Decimal]\n",
      "22\n",
      "System.Func`2[System.Decimal,System.Func`2[System.Single,System.Decimal]]\n"
     ]
    }
   ],
   "source": [
    "var numero2 = 20; //variable entera\n",
    "\n",
    "var f = (decimal x) => x+2; // Lambda function, se infiere implicitamente el tipo de dato de la suma (decimal)\n",
    "Console.WriteLine(f.GetType());\n",
    "\n",
    "Console.WriteLine(f(numero2)); //se castea implicitamente a decimal\n",
    "\n",
    "\n",
    "var f2 = (decimal x) => (float y) => x + ((decimal)y);\n",
    "Console.WriteLine(f2.GetType());\n"
   ]
  },
  {
   "cell_type": "markdown",
   "metadata": {},
   "source": [
    "Ejemplo de una clase, y property"
   ]
  },
  {
   "cell_type": "code",
   "execution_count": 7,
   "metadata": {
    "dotnet_interactive": {
     "language": "csharp"
    },
    "vscode": {
     "languageId": "dotnet-interactive.csharp"
    }
   },
   "outputs": [
    {
     "name": "stdout",
     "output_type": "stream",
     "text": [
      "Submission#8+Entity\n",
      "Submission#8+Entity\n"
     ]
    }
   ],
   "source": [
    "// se pueden definir enumerados como en typescript\n",
    "public enum TEntityEnum : byte {\n",
    "    EMPLOYEE = 1,\n",
    "    CUSTOMER = 2\n",
    "}\n",
    "\n",
    "public class Entity {\n",
    "    // constructor por defecto, debe declararse explicitamente si quiere coexistir con otro tipo de constructor\n",
    "    public Entity(){}\n",
    "\n",
    "    public Entity(long id, string name, TEntityEnum type)\n",
    "    {\n",
    "        this.Id = id;\n",
    "        this.Name = name;\n",
    "        this.type = type;\n",
    "    }\n",
    "\n",
    "    // property con implementaciones automaticas de getter y setter\n",
    "    public long Id { get;set; }\n",
    "\n",
    "    // property explicita\n",
    "    private string _Name;\n",
    "    public string Name \n",
    "    {\n",
    "        get \n",
    "        {\n",
    "            return this._Name;\n",
    "        }\n",
    "        set \n",
    "        {\n",
    "            this._Name = $\"{value} + New\";\n",
    "        }\n",
    "    }\n",
    "\n",
    "    // property readonly solamente inicializada al construir el objeto\n",
    "    public readonly TEntityEnum type;\n",
    "    \n",
    "    public TEntityEnum Type { get; }\n",
    "}\n",
    "\n",
    "// uso del constructor con properties\n",
    "var ent1 = new Entity(1, \"Emiliano\",TEntityEnum.CUSTOMER);\n",
    "\n",
    "// construccion con post asignacion de properties, usa el constructor por defecto\n",
    "var ent2 = new Entity{ Id = 2, Name = \"Emilio\" };\n",
    "\n",
    "Console.WriteLine(ent1);\n",
    "Console.WriteLine(ent2);"
   ]
  },
  {
   "cell_type": "code",
   "execution_count": 8,
   "metadata": {
    "dotnet_interactive": {
     "language": "csharp"
    },
    "vscode": {
     "languageId": "dotnet-interactive.csharp"
    }
   },
   "outputs": [
    {
     "name": "stdout",
     "output_type": "stream",
     "text": [
      "{Id: 1, Name: Emiliano + New}\n",
      "{Id: 2, Name: Emilio + New}\n",
      "{Id: 1, Name: Emiliano + New}\n"
     ]
    }
   ],
   "source": [
    "// Esto en realidad deberia ir dentro de una clase estatica\n",
    "// Pero el interactive esta construido como una clase estatica que envuelve todo\n",
    "public static void PrintEntity(this Entity ent)\n",
    "{\n",
    "    Console.WriteLine($\"{{Id: {ent.Id}, Name: {ent.Name}}}\");\n",
    "}\n",
    "\n",
    "ent1.PrintEntity();\n",
    "ent2.PrintEntity();\n",
    "\n",
    "PrintEntity(ent1);"
   ]
  },
  {
   "cell_type": "code",
   "execution_count": null,
   "metadata": {
    "dotnet_interactive": {
     "language": "csharp"
    },
    "vscode": {
     "languageId": "dotnet-interactive.csharp"
    }
   },
   "outputs": [],
   "source": [
    "public partial class Nachito {\n",
    "    public string Name{get;set;}\n",
    "}\n",
    "\n",
    "public partial class Nachito \n",
    "{\n",
    "    public string Surname {get;set;}\n",
    "}\n",
    "\n",
    "var nachito = new Nachito { Name = \"Nachito\", Surname = \"Barreto\" };"
   ]
  },
  {
   "cell_type": "code",
   "execution_count": null,
   "metadata": {
    "dotnet_interactive": {
     "language": "csharp"
    },
    "vscode": {
     "languageId": "dotnet-interactive.csharp"
    }
   },
   "outputs": [],
   "source": [
    "public interface IBaseEntity\n",
    "{\n",
    "    string Id { get; set; }\n",
    "}\n",
    "\n",
    "//Se pueden definir clases con generics\n",
    "public class Repository<TEntity> where TEntity : IBaseEntity //se pueden poner constraints para que el tipo generic cumpla ciertas condiciones\n",
    "{\n",
    "    public List<TEntity> Items { get; set; }\n",
    "\n",
    "    //Se pueden definir metodos con sintaxis lambda \n",
    "    public TEntity GetItem(int index) => Items[index];\n",
    "\n",
    "    //Se pueden definir metodos con sintaxis convencional\n",
    "    public TEntity GetItemWithReturn(int index)\n",
    "    {\n",
    "        return Items[index];\n",
    "    }\n",
    "}\n",
    "// estas clases se pueden heredar perfectamente, o ser usadas de manera explicita"
   ]
  },
  {
   "cell_type": "markdown",
   "metadata": {},
   "source": [
    "![Arquitectura .NET](dotnet-arch.svg)"
   ]
  },
  {
   "cell_type": "markdown",
   "metadata": {},
   "source": [
    "Tenemos una cli que nos permite automatizar las tareas de creacion de proyectos, compilado, agregar paquetes y correr las aplicaciones."
   ]
  },
  {
   "cell_type": "markdown",
   "metadata": {},
   "source": [
    "```C#\n",
    "dotnet new console -o ConsoleApp\n",
    "```"
   ]
  },
  {
   "cell_type": "markdown",
   "metadata": {},
   "source": [
    "Para agregar dependencias tambien se utiliza la cli y se basa en el gestor de paquetes Nugget. Aunque existen otros."
   ]
  },
  {
   "cell_type": "markdown",
   "metadata": {},
   "source": [
    "```C#\n",
    "add package Automapper\n",
    "```"
   ]
  },
  {
   "cell_type": "markdown",
   "metadata": {},
   "source": [
    "```C#\n",
    "dotnet build\n",
    "```"
   ]
  },
  {
   "cell_type": "markdown",
   "metadata": {},
   "source": [
    "```C#\n",
    "dotnet run\n",
    "```"
   ]
  },
  {
   "cell_type": "markdown",
   "metadata": {},
   "source": [
    "# Proyectos Web"
   ]
  },
  {
   "cell_type": "markdown",
   "metadata": {},
   "source": [
    "```C#\n",
    "dotnet new webapi -o WebApi\n",
    "```"
   ]
  },
  {
   "cell_type": "markdown",
   "metadata": {},
   "source": [
    "## DTOs"
   ]
  },
  {
   "cell_type": "code",
   "execution_count": 1,
   "metadata": {
    "dotnet_interactive": {
     "language": "csharp"
    },
    "vscode": {
     "languageId": "dotnet-interactive.csharp"
    }
   },
   "outputs": [
    {
     "name": "stdout",
     "output_type": "stream",
     "text": [
      "DTO { Id = 3, Name = Santi }\n",
      "DTO { Id = 3, Name = Santi Marchisio }\n"
     ]
    }
   ],
   "source": [
    "// Los records son mas baratos que las clases a nivel de memoria y son inmutables\n",
    "public record DTO(long Id, string Name);\n",
    "\n",
    "var d = new DTO(3, \"Santi\");\n",
    "\n",
    "var d2 = d with { Name = \"Santi Marchisio\" };\n",
    "\n",
    "Console.WriteLine(d);\n",
    "Console.WriteLine(d2);"
   ]
  }
 ],
 "metadata": {
  "kernelspec": {
   "display_name": ".NET (C#)",
   "language": "C#",
   "name": ".net-csharp"
  },
  "language_info": {
   "name": "C#"
  }
 },
 "nbformat": 4,
 "nbformat_minor": 2
}
